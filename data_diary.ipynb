{
 "cells": [
  {
   "cell_type": "markdown",
   "id": "93e35752-e78a-429e-834d-22a1c55c616d",
   "metadata": {},
   "source": [
    "#### Kristen Shen\n",
    "#### Flask app: emoji search\n",
    "#### Data Diary"
   ]
  },
  {
   "cell_type": "markdown",
   "id": "8f9d8449-82db-478a-9d9f-00e0bd5528fa",
   "metadata": {},
   "source": [
    "***11/20/2024***"
   ]
  },
  {
   "cell_type": "markdown",
   "id": "0255fcd8-b706-4825-883a-e9460a554218",
   "metadata": {},
   "source": [
    "##### Learned how to build a sample Flask app following basic tutorial and created sample html files #####"
   ]
  },
  {
   "cell_type": "markdown",
   "id": "a81b1fa5-68a4-43f9-b862-108315dd1015",
   "metadata": {},
   "source": [
    "##### link: https://github.com/jsoma/flask-tutorial #####"
   ]
  },
  {
   "cell_type": "markdown",
   "id": "94ad6000-8cf4-466f-bf82-9df6ccf7f111",
   "metadata": {},
   "source": [
    "***11/21/2024***"
   ]
  },
  {
   "cell_type": "markdown",
   "id": "718560d4-3a3e-4da9-8ec1-09a16704314e",
   "metadata": {},
   "source": [
    "##### Downloaded data from source #####\n",
    "##### Created a notebook `all_emoji.ipynb` for simple analysis to understand the dataset #####"
   ]
  },
  {
   "cell_type": "markdown",
   "id": "96d07af0-2bd4-4a2c-a470-4fc90fbc06d5",
   "metadata": {},
   "source": [
    "##### office hour with Soma to discuss future steps for the project #####"
   ]
  },
  {
   "cell_type": "markdown",
   "id": "10e2839d-1e16-4f04-81da-2de2c9f6c693",
   "metadata": {},
   "source": [
    "***11/26/2024***"
   ]
  },
  {
   "cell_type": "markdown",
   "id": "3fb19fe6-c96b-470e-b0f0-389fb3d4583c",
   "metadata": {},
   "source": [
    "##### continued to do basic analysis on `all_emoji.ipynb` ##### "
   ]
  },
  {
   "cell_type": "markdown",
   "id": "d9f213ba-a43f-4681-bafe-63e6b1b8d941",
   "metadata": {},
   "source": [
    "***11/28/2024***"
   ]
  },
  {
   "cell_type": "markdown",
   "id": "314cee65-9cd3-48a7-862c-b7375d7e0a3d",
   "metadata": {},
   "source": [
    "##### learned another tutorial and got to know Jinja2 basic #####"
   ]
  },
  {
   "cell_type": "markdown",
   "id": "67773664-5076-458a-aba9-03e9d705909e",
   "metadata": {},
   "source": [
    "***12/01/2024***"
   ]
  },
  {
   "cell_type": "markdown",
   "id": "bfed6350-7a62-48ac-90df-35fa181e7306",
   "metadata": {},
   "source": [
    "##### list all emoji pages, created basic html files for listing all emojis #####"
   ]
  },
  {
   "cell_type": "markdown",
   "id": "9e3b5921-c64f-41b0-a1be-c54f45909a35",
   "metadata": {},
   "source": [
    "***12/06/2024***"
   ]
  },
  {
   "cell_type": "markdown",
   "id": "94cec405-1eaa-4510-9db0-74f2bba06826",
   "metadata": {},
   "source": [
    "##### created separate links for each emoji #####\n",
    "##### cleaned emoji dataset #####\n",
    "##### removed the codes (e.g. “e1-0”) in each emoji’s name #####\n",
    "##### created a separate new column called 'description' only displaying the emoji name #####"
   ]
  },
  {
   "cell_type": "markdown",
   "id": "5bab5b2c-93ef-44c6-99ed-335cae5a69c1",
   "metadata": {},
   "source": [
    "##### followed Soma's added tutorial for pagination and made it in my app #####"
   ]
  },
  {
   "cell_type": "markdown",
   "id": "82cf9929-984c-47dc-9bb2-e9948f4a0c68",
   "metadata": {},
   "source": [
    "***12/09/2024***"
   ]
  },
  {
   "cell_type": "markdown",
   "id": "f2d86c92-b3f5-4672-add7-7427693016d0",
   "metadata": {},
   "source": [
    "##### added search button allowing users to search by keywords #####\n",
    "##### the html search page works! #####\n",
    "##### But not able to show specific emojis??? #####"
   ]
  },
  {
   "cell_type": "markdown",
   "id": "a0f35b40-94a7-4066-a328-745e7ecd4ca9",
   "metadata": {},
   "source": [
    "***12/10/2024***\n",
    "##### still working on show specific emojis #####\n",
    "##### using chatGPT to debug; still not working ??? ##### "
   ]
  },
  {
   "cell_type": "markdown",
   "id": "772378d7-2156-477a-ac1c-93e32afd5545",
   "metadata": {},
   "source": [
    "***12/11/2024***\n",
    "##### asked Soma after class to debug #####\n",
    "##### now it finally works!!! #####"
   ]
  },
  {
   "cell_type": "markdown",
   "id": "8722081c-7b49-49d8-a69e-2dbcef44d615",
   "metadata": {},
   "source": [
    "#### To do: still need to figure out how to click to show the details of each emoji after showing the related ones ####"
   ]
  },
  {
   "cell_type": "markdown",
   "id": "695cf129-d1c3-4f37-88d2-ec9b5e39782d",
   "metadata": {},
   "source": [
    "***12/13/2024***\n",
    "##### finished showing details of each emoji on search page; added background colors and guiding texts #####"
   ]
  },
  {
   "cell_type": "markdown",
   "id": "d92f2a77-a398-44fe-855f-cd9dcc7da07a",
   "metadata": {},
   "source": [
    "***12/14/2024***\n",
    "##### combined search page and listing page into one ##### \n",
    "##### changed colors of the website for a better looking :) ##### \n",
    "##### made each emoji detail page displaying different color ##### \n",
    "##### uploaded github repo ##### "
   ]
  },
  {
   "cell_type": "markdown",
   "id": "6e4be410-f936-4b98-a571-2a5bb825460b",
   "metadata": {},
   "source": [
    "***12/15/2024***\n",
    "##### checked and cleaned up all my codes #####\n",
    "##### made it to the public website #####"
   ]
  },
  {
   "cell_type": "markdown",
   "id": "9c26002a-c370-4712-8496-e7ba35ddf845",
   "metadata": {},
   "source": [
    "##### local link on my personal desktop: http://127.0.0.1:5000/ #####"
   ]
  },
  {
   "cell_type": "code",
   "execution_count": null,
   "id": "f76df501-6920-43b0-8eaf-36603eef5372",
   "metadata": {},
   "outputs": [],
   "source": []
  }
 ],
 "metadata": {
  "kernelspec": {
   "display_name": "Python 3 (ipykernel)",
   "language": "python",
   "name": "python3"
  },
  "language_info": {
   "codemirror_mode": {
    "name": "ipython",
    "version": 3
   },
   "file_extension": ".py",
   "mimetype": "text/x-python",
   "name": "python",
   "nbconvert_exporter": "python",
   "pygments_lexer": "ipython3",
   "version": "3.12.7"
  }
 },
 "nbformat": 4,
 "nbformat_minor": 5
}
