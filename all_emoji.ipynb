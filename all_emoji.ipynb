{
 "cells": [
  {
   "cell_type": "code",
   "execution_count": 47,
   "id": "28e0df31-2d42-47ee-9871-efd7ca17d21a",
   "metadata": {},
   "outputs": [],
   "source": [
    "import requests\n",
    "import json\n",
    "import pandas as pd"
   ]
  },
  {
   "cell_type": "code",
   "execution_count": 48,
   "id": "f1e8c881-9cd2-49a0-968b-ccc56024b816",
   "metadata": {},
   "outputs": [],
   "source": [
    "url = \"https://emoji-api.com/emojis?access_key=94cbc59dd23a78840b6ac27574c3f391d2ff3915\""
   ]
  },
  {
   "cell_type": "code",
   "execution_count": 49,
   "id": "972a2200-d76a-41a3-8f42-f564d64c4665",
   "metadata": {},
   "outputs": [
    {
     "data": {
      "text/plain": [
       "<Response [200]>"
      ]
     },
     "execution_count": 49,
     "metadata": {},
     "output_type": "execute_result"
    }
   ],
   "source": [
    "response = requests.get(url)\n",
    "response"
   ]
  },
  {
   "cell_type": "code",
   "execution_count": 50,
   "id": "e1da2512-8e24-4d83-a1f9-9c912ce8555c",
   "metadata": {},
   "outputs": [
    {
     "data": {
      "text/html": [
       "<div>\n",
       "<style scoped>\n",
       "    .dataframe tbody tr th:only-of-type {\n",
       "        vertical-align: middle;\n",
       "    }\n",
       "\n",
       "    .dataframe tbody tr th {\n",
       "        vertical-align: top;\n",
       "    }\n",
       "\n",
       "    .dataframe thead th {\n",
       "        text-align: right;\n",
       "    }\n",
       "</style>\n",
       "<table border=\"1\" class=\"dataframe\">\n",
       "  <thead>\n",
       "    <tr style=\"text-align: right;\">\n",
       "      <th></th>\n",
       "      <th>slug</th>\n",
       "      <th>character</th>\n",
       "      <th>unicodeName</th>\n",
       "      <th>codePoint</th>\n",
       "      <th>group</th>\n",
       "      <th>subGroup</th>\n",
       "      <th>variants</th>\n",
       "    </tr>\n",
       "  </thead>\n",
       "  <tbody>\n",
       "    <tr>\n",
       "      <th>0</th>\n",
       "      <td>e1-0-grinning-face</td>\n",
       "      <td>😀</td>\n",
       "      <td>E1.0 grinning face</td>\n",
       "      <td>1F600</td>\n",
       "      <td>smileys-emotion</td>\n",
       "      <td>face-smiling</td>\n",
       "      <td>NaN</td>\n",
       "    </tr>\n",
       "    <tr>\n",
       "      <th>1</th>\n",
       "      <td>e0-6-grinning-face-with-big-eyes</td>\n",
       "      <td>😃</td>\n",
       "      <td>E0.6 grinning face with big eyes</td>\n",
       "      <td>1F603</td>\n",
       "      <td>smileys-emotion</td>\n",
       "      <td>face-smiling</td>\n",
       "      <td>NaN</td>\n",
       "    </tr>\n",
       "    <tr>\n",
       "      <th>2</th>\n",
       "      <td>e0-6-grinning-face-with-smiling-eyes</td>\n",
       "      <td>😄</td>\n",
       "      <td>E0.6 grinning face with smiling eyes</td>\n",
       "      <td>1F604</td>\n",
       "      <td>smileys-emotion</td>\n",
       "      <td>face-smiling</td>\n",
       "      <td>NaN</td>\n",
       "    </tr>\n",
       "    <tr>\n",
       "      <th>3</th>\n",
       "      <td>e0-6-beaming-face-with-smiling-eyes</td>\n",
       "      <td>😁</td>\n",
       "      <td>E0.6 beaming face with smiling eyes</td>\n",
       "      <td>1F601</td>\n",
       "      <td>smileys-emotion</td>\n",
       "      <td>face-smiling</td>\n",
       "      <td>NaN</td>\n",
       "    </tr>\n",
       "    <tr>\n",
       "      <th>4</th>\n",
       "      <td>e0-6-grinning-squinting-face</td>\n",
       "      <td>😆</td>\n",
       "      <td>E0.6 grinning squinting face</td>\n",
       "      <td>1F606</td>\n",
       "      <td>smileys-emotion</td>\n",
       "      <td>face-smiling</td>\n",
       "      <td>NaN</td>\n",
       "    </tr>\n",
       "  </tbody>\n",
       "</table>\n",
       "</div>"
      ],
      "text/plain": [
       "                                   slug character  \\\n",
       "0                    e1-0-grinning-face         😀   \n",
       "1      e0-6-grinning-face-with-big-eyes         😃   \n",
       "2  e0-6-grinning-face-with-smiling-eyes         😄   \n",
       "3   e0-6-beaming-face-with-smiling-eyes         😁   \n",
       "4          e0-6-grinning-squinting-face         😆   \n",
       "\n",
       "                            unicodeName codePoint            group  \\\n",
       "0                    E1.0 grinning face     1F600  smileys-emotion   \n",
       "1      E0.6 grinning face with big eyes     1F603  smileys-emotion   \n",
       "2  E0.6 grinning face with smiling eyes     1F604  smileys-emotion   \n",
       "3   E0.6 beaming face with smiling eyes     1F601  smileys-emotion   \n",
       "4          E0.6 grinning squinting face     1F606  smileys-emotion   \n",
       "\n",
       "       subGroup variants  \n",
       "0  face-smiling      NaN  \n",
       "1  face-smiling      NaN  \n",
       "2  face-smiling      NaN  \n",
       "3  face-smiling      NaN  \n",
       "4  face-smiling      NaN  "
      ]
     },
     "execution_count": 50,
     "metadata": {},
     "output_type": "execute_result"
    }
   ],
   "source": [
    "data_emoji = response.json()\n",
    "df = pd.DataFrame(data_emoji)\n",
    "df.head()"
   ]
  },
  {
   "cell_type": "code",
   "execution_count": 11,
   "id": "4bee8259-20dc-4a3d-be24-fedc186451ce",
   "metadata": {},
   "outputs": [],
   "source": [
    "# convert all emojis in the API to a csv file\n",
    "filename = f\"open_emoji_all.csv\"\n",
    "df.to_csv(filename, index = False)"
   ]
  },
  {
   "cell_type": "code",
   "execution_count": 52,
   "id": "2e207580-68b7-4d79-a826-c77f02e344a7",
   "metadata": {},
   "outputs": [
    {
     "name": "stdout",
     "output_type": "stream",
     "text": [
      "all_emoji.csv    all_emoji.ipynb  \u001b[34mflask-emoji\u001b[m\u001b[m/\n"
     ]
    }
   ],
   "source": [
    "# change to the correct directory\n",
    "ls"
   ]
  },
  {
   "cell_type": "code",
   "execution_count": 53,
   "id": "5b26c4d3-895e-47d1-8f2e-7a616a9c9411",
   "metadata": {},
   "outputs": [
    {
     "name": "stdout",
     "output_type": "stream",
     "text": [
      "/Users/river_one/Desktop/CJS-Fall/FoundationComputing/emoji-api/flask-emoji\n"
     ]
    },
    {
     "name": "stderr",
     "output_type": "stream",
     "text": [
      "/Users/river_one/.pyenv/versions/3.12.7/lib/python3.12/site-packages/IPython/core/magics/osm.py:417: UserWarning: This is now an optional IPython functionality, setting dhist requires you to install the `pickleshare` library.\n",
      "  self.shell.db['dhist'] = compress_dhist(dhist)[-100:]\n"
     ]
    }
   ],
   "source": [
    "cd 'flask-emoji/'"
   ]
  },
  {
   "cell_type": "code",
   "execution_count": 39,
   "id": "75a4a6df-7e04-406d-b23f-7942fa64c2b3",
   "metadata": {},
   "outputs": [
    {
     "data": {
      "text/plain": [
       "0             😀\n",
       "1             😃\n",
       "2             😄\n",
       "3             😁\n",
       "4             😆\n",
       "         ...   \n",
       "1854         🇾🇹\n",
       "1855         🇿🇦\n",
       "1856         🇿🇲\n",
       "1857         🇿🇼\n",
       "1858    🏴󠁧󠁢󠁥󠁮󠁧󠁿\n",
       "Name: character, Length: 1859, dtype: object"
      ]
     },
     "execution_count": 39,
     "metadata": {},
     "output_type": "execute_result"
    }
   ],
   "source": [
    "# check wihich column display images\n",
    "df['character']"
   ]
  },
  {
   "cell_type": "code",
   "execution_count": 18,
   "id": "9ffcb0a2-b830-4370-9970-1c5761e176c8",
   "metadata": {},
   "outputs": [
    {
     "data": {
      "text/plain": [
       "64    [{'slug': 'e13-1-face-with-spiral-eyes', 'char...\n",
       "Name: variants, dtype: object"
      ]
     },
     "execution_count": 18,
     "metadata": {},
     "output_type": "execute_result"
    }
   ],
   "source": [
    "# make a new column that removes all codes \"e1.0\" in 'slug' column to make it user-friendly to read\n",
    "df[df['slug'] == 'e0-6-face-with-crossed-out-eyes']['variants']"
   ]
  },
  {
   "cell_type": "code",
   "execution_count": 34,
   "id": "4e54e9fe-d248-4b72-b43a-235b0c3ebe96",
   "metadata": {},
   "outputs": [],
   "source": [
    "# check the first one: replace numbers such as \"e1-0\" in 'slugs' with ' ' to make the slug easier to search\n",
    "# df['slug'] = df['slug'].str.replace(\"e1-0-\", \"\").astype(str)"
   ]
  },
  {
   "cell_type": "code",
   "execution_count": 43,
   "id": "f77cc7d1-7f48-48a3-8d44-68997e6cb893",
   "metadata": {},
   "outputs": [],
   "source": [
    "df['description'] = df['unicodeName'].str.replace(r'^E\\d+\\.\\d+ ', '', regex=True)"
   ]
  },
  {
   "cell_type": "code",
   "execution_count": 44,
   "id": "a788b940-0778-4e64-b2d6-7b69d55c033e",
   "metadata": {},
   "outputs": [],
   "source": [
    "# save the cleaned version as a new csv file\n",
    "df.to_csv('updated_emojis.csv', index=False)"
   ]
  },
  {
   "cell_type": "code",
   "execution_count": 54,
   "id": "15615f3b-256f-4543-9076-099f2d60584f",
   "metadata": {},
   "outputs": [
    {
     "data": {
      "text/html": [
       "<div>\n",
       "<style scoped>\n",
       "    .dataframe tbody tr th:only-of-type {\n",
       "        vertical-align: middle;\n",
       "    }\n",
       "\n",
       "    .dataframe tbody tr th {\n",
       "        vertical-align: top;\n",
       "    }\n",
       "\n",
       "    .dataframe thead th {\n",
       "        text-align: right;\n",
       "    }\n",
       "</style>\n",
       "<table border=\"1\" class=\"dataframe\">\n",
       "  <thead>\n",
       "    <tr style=\"text-align: right;\">\n",
       "      <th></th>\n",
       "      <th>slug</th>\n",
       "      <th>character</th>\n",
       "      <th>unicodeName</th>\n",
       "      <th>codePoint</th>\n",
       "      <th>group</th>\n",
       "      <th>subGroup</th>\n",
       "      <th>variants</th>\n",
       "      <th>description</th>\n",
       "    </tr>\n",
       "  </thead>\n",
       "  <tbody>\n",
       "    <tr>\n",
       "      <th>0</th>\n",
       "      <td>e1-0-grinning-face</td>\n",
       "      <td>😀</td>\n",
       "      <td>E1.0 grinning face</td>\n",
       "      <td>1F600</td>\n",
       "      <td>smileys-emotion</td>\n",
       "      <td>face-smiling</td>\n",
       "      <td>NaN</td>\n",
       "      <td>grinning face</td>\n",
       "    </tr>\n",
       "    <tr>\n",
       "      <th>1</th>\n",
       "      <td>e0-6-grinning-face-with-big-eyes</td>\n",
       "      <td>😃</td>\n",
       "      <td>E0.6 grinning face with big eyes</td>\n",
       "      <td>1F603</td>\n",
       "      <td>smileys-emotion</td>\n",
       "      <td>face-smiling</td>\n",
       "      <td>NaN</td>\n",
       "      <td>grinning face with big eyes</td>\n",
       "    </tr>\n",
       "    <tr>\n",
       "      <th>2</th>\n",
       "      <td>e0-6-grinning-face-with-smiling-eyes</td>\n",
       "      <td>😄</td>\n",
       "      <td>E0.6 grinning face with smiling eyes</td>\n",
       "      <td>1F604</td>\n",
       "      <td>smileys-emotion</td>\n",
       "      <td>face-smiling</td>\n",
       "      <td>NaN</td>\n",
       "      <td>grinning face with smiling eyes</td>\n",
       "    </tr>\n",
       "    <tr>\n",
       "      <th>3</th>\n",
       "      <td>e0-6-beaming-face-with-smiling-eyes</td>\n",
       "      <td>😁</td>\n",
       "      <td>E0.6 beaming face with smiling eyes</td>\n",
       "      <td>1F601</td>\n",
       "      <td>smileys-emotion</td>\n",
       "      <td>face-smiling</td>\n",
       "      <td>NaN</td>\n",
       "      <td>beaming face with smiling eyes</td>\n",
       "    </tr>\n",
       "    <tr>\n",
       "      <th>4</th>\n",
       "      <td>e0-6-grinning-squinting-face</td>\n",
       "      <td>😆</td>\n",
       "      <td>E0.6 grinning squinting face</td>\n",
       "      <td>1F606</td>\n",
       "      <td>smileys-emotion</td>\n",
       "      <td>face-smiling</td>\n",
       "      <td>NaN</td>\n",
       "      <td>grinning squinting face</td>\n",
       "    </tr>\n",
       "  </tbody>\n",
       "</table>\n",
       "</div>"
      ],
      "text/plain": [
       "                                   slug character  \\\n",
       "0                    e1-0-grinning-face         😀   \n",
       "1      e0-6-grinning-face-with-big-eyes         😃   \n",
       "2  e0-6-grinning-face-with-smiling-eyes         😄   \n",
       "3   e0-6-beaming-face-with-smiling-eyes         😁   \n",
       "4          e0-6-grinning-squinting-face         😆   \n",
       "\n",
       "                            unicodeName codePoint            group  \\\n",
       "0                    E1.0 grinning face     1F600  smileys-emotion   \n",
       "1      E0.6 grinning face with big eyes     1F603  smileys-emotion   \n",
       "2  E0.6 grinning face with smiling eyes     1F604  smileys-emotion   \n",
       "3   E0.6 beaming face with smiling eyes     1F601  smileys-emotion   \n",
       "4          E0.6 grinning squinting face     1F606  smileys-emotion   \n",
       "\n",
       "       subGroup variants                      description  \n",
       "0  face-smiling      NaN                    grinning face  \n",
       "1  face-smiling      NaN      grinning face with big eyes  \n",
       "2  face-smiling      NaN  grinning face with smiling eyes  \n",
       "3  face-smiling      NaN   beaming face with smiling eyes  \n",
       "4  face-smiling      NaN          grinning squinting face  "
      ]
     },
     "execution_count": 54,
     "metadata": {},
     "output_type": "execute_result"
    }
   ],
   "source": [
    "df = pd.read_csv('updated_emojis.csv')\n",
    "df.head()"
   ]
  },
  {
   "cell_type": "code",
   "execution_count": 60,
   "id": "b4d56619-c3a4-4c30-9b44-13a94cac352e",
   "metadata": {},
   "outputs": [
    {
     "data": {
      "text/html": [
       "<div>\n",
       "<style scoped>\n",
       "    .dataframe tbody tr th:only-of-type {\n",
       "        vertical-align: middle;\n",
       "    }\n",
       "\n",
       "    .dataframe tbody tr th {\n",
       "        vertical-align: top;\n",
       "    }\n",
       "\n",
       "    .dataframe thead th {\n",
       "        text-align: right;\n",
       "    }\n",
       "</style>\n",
       "<table border=\"1\" class=\"dataframe\">\n",
       "  <thead>\n",
       "    <tr style=\"text-align: right;\">\n",
       "      <th></th>\n",
       "      <th>slug</th>\n",
       "      <th>character</th>\n",
       "      <th>unicodeName</th>\n",
       "      <th>codePoint</th>\n",
       "      <th>group</th>\n",
       "      <th>subGroup</th>\n",
       "      <th>variants</th>\n",
       "      <th>description</th>\n",
       "    </tr>\n",
       "  </thead>\n",
       "  <tbody>\n",
       "    <tr>\n",
       "      <th>2</th>\n",
       "      <td>e0-6-grinning-face-with-smiling-eyes</td>\n",
       "      <td>😄</td>\n",
       "      <td>E0.6 grinning face with smiling eyes</td>\n",
       "      <td>1F604</td>\n",
       "      <td>smileys-emotion</td>\n",
       "      <td>face-smiling</td>\n",
       "      <td>NaN</td>\n",
       "      <td>grinning face with smiling eyes</td>\n",
       "    </tr>\n",
       "    <tr>\n",
       "      <th>3</th>\n",
       "      <td>e0-6-beaming-face-with-smiling-eyes</td>\n",
       "      <td>😁</td>\n",
       "      <td>E0.6 beaming face with smiling eyes</td>\n",
       "      <td>1F601</td>\n",
       "      <td>smileys-emotion</td>\n",
       "      <td>face-smiling</td>\n",
       "      <td>NaN</td>\n",
       "      <td>beaming face with smiling eyes</td>\n",
       "    </tr>\n",
       "    <tr>\n",
       "      <th>8</th>\n",
       "      <td>e1-0-slightly-smiling-face</td>\n",
       "      <td>🙂</td>\n",
       "      <td>E1.0 slightly smiling face</td>\n",
       "      <td>1F642</td>\n",
       "      <td>smileys-emotion</td>\n",
       "      <td>face-smiling</td>\n",
       "      <td>NaN</td>\n",
       "      <td>slightly smiling face</td>\n",
       "    </tr>\n",
       "    <tr>\n",
       "      <th>12</th>\n",
       "      <td>e0-6-smiling-face-with-smiling-eyes</td>\n",
       "      <td>😊</td>\n",
       "      <td>E0.6 smiling face with smiling eyes</td>\n",
       "      <td>1F60A</td>\n",
       "      <td>smileys-emotion</td>\n",
       "      <td>face-smiling</td>\n",
       "      <td>NaN</td>\n",
       "      <td>smiling face with smiling eyes</td>\n",
       "    </tr>\n",
       "    <tr>\n",
       "      <th>13</th>\n",
       "      <td>e1-0-smiling-face-with-halo</td>\n",
       "      <td>😇</td>\n",
       "      <td>E1.0 smiling face with halo</td>\n",
       "      <td>1F607</td>\n",
       "      <td>smileys-emotion</td>\n",
       "      <td>face-smiling</td>\n",
       "      <td>NaN</td>\n",
       "      <td>smiling face with halo</td>\n",
       "    </tr>\n",
       "    <tr>\n",
       "      <th>14</th>\n",
       "      <td>e11-0-smiling-face-with-hearts</td>\n",
       "      <td>🥰</td>\n",
       "      <td>E11.0 smiling face with hearts</td>\n",
       "      <td>1F970</td>\n",
       "      <td>smileys-emotion</td>\n",
       "      <td>face-affection</td>\n",
       "      <td>NaN</td>\n",
       "      <td>smiling face with hearts</td>\n",
       "    </tr>\n",
       "    <tr>\n",
       "      <th>15</th>\n",
       "      <td>e0-6-smiling-face-with-heart-eyes</td>\n",
       "      <td>😍</td>\n",
       "      <td>E0.6 smiling face with heart-eyes</td>\n",
       "      <td>1F60D</td>\n",
       "      <td>smileys-emotion</td>\n",
       "      <td>face-affection</td>\n",
       "      <td>NaN</td>\n",
       "      <td>smiling face with heart-eyes</td>\n",
       "    </tr>\n",
       "    <tr>\n",
       "      <th>19</th>\n",
       "      <td>e0-6-smiling-face</td>\n",
       "      <td>☺️</td>\n",
       "      <td>E0.6 smiling face</td>\n",
       "      <td>263A FE0F</td>\n",
       "      <td>smileys-emotion</td>\n",
       "      <td>face-affection</td>\n",
       "      <td>NaN</td>\n",
       "      <td>smiling face</td>\n",
       "    </tr>\n",
       "    <tr>\n",
       "      <th>21</th>\n",
       "      <td>e1-0-kissing-face-with-smiling-eyes</td>\n",
       "      <td>😙</td>\n",
       "      <td>E1.0 kissing face with smiling eyes</td>\n",
       "      <td>1F619</td>\n",
       "      <td>smileys-emotion</td>\n",
       "      <td>face-affection</td>\n",
       "      <td>NaN</td>\n",
       "      <td>kissing face with smiling eyes</td>\n",
       "    </tr>\n",
       "    <tr>\n",
       "      <th>22</th>\n",
       "      <td>e13-0-smiling-face-with-tear</td>\n",
       "      <td>🥲</td>\n",
       "      <td>E13.0 smiling face with tear</td>\n",
       "      <td>1F972</td>\n",
       "      <td>smileys-emotion</td>\n",
       "      <td>face-affection</td>\n",
       "      <td>NaN</td>\n",
       "      <td>smiling face with tear</td>\n",
       "    </tr>\n",
       "    <tr>\n",
       "      <th>29</th>\n",
       "      <td>e1-0-smiling-face-with-open-hands</td>\n",
       "      <td>🤗</td>\n",
       "      <td>E1.0 smiling face with open hands</td>\n",
       "      <td>1F917</td>\n",
       "      <td>smileys-emotion</td>\n",
       "      <td>face-hand</td>\n",
       "      <td>NaN</td>\n",
       "      <td>smiling face with open hands</td>\n",
       "    </tr>\n",
       "    <tr>\n",
       "      <th>69</th>\n",
       "      <td>e1-0-smiling-face-with-sunglasses</td>\n",
       "      <td>😎</td>\n",
       "      <td>E1.0 smiling face with sunglasses</td>\n",
       "      <td>1F60E</td>\n",
       "      <td>smileys-emotion</td>\n",
       "      <td>face-glasses</td>\n",
       "      <td>NaN</td>\n",
       "      <td>smiling face with sunglasses</td>\n",
       "    </tr>\n",
       "    <tr>\n",
       "      <th>102</th>\n",
       "      <td>e1-0-smiling-face-with-horns</td>\n",
       "      <td>😈</td>\n",
       "      <td>E1.0 smiling face with horns</td>\n",
       "      <td>1F608</td>\n",
       "      <td>smileys-emotion</td>\n",
       "      <td>face-negative</td>\n",
       "      <td>NaN</td>\n",
       "      <td>smiling face with horns</td>\n",
       "    </tr>\n",
       "    <tr>\n",
       "      <th>115</th>\n",
       "      <td>e0-6-grinning-cat-with-smiling-eyes</td>\n",
       "      <td>😸</td>\n",
       "      <td>E0.6 grinning cat with smiling eyes</td>\n",
       "      <td>1F638</td>\n",
       "      <td>smileys-emotion</td>\n",
       "      <td>cat-face</td>\n",
       "      <td>NaN</td>\n",
       "      <td>grinning cat with smiling eyes</td>\n",
       "    </tr>\n",
       "    <tr>\n",
       "      <th>117</th>\n",
       "      <td>e0-6-smiling-cat-with-heart-eyes</td>\n",
       "      <td>😻</td>\n",
       "      <td>E0.6 smiling cat with heart-eyes</td>\n",
       "      <td>1F63B</td>\n",
       "      <td>smileys-emotion</td>\n",
       "      <td>cat-face</td>\n",
       "      <td>NaN</td>\n",
       "      <td>smiling cat with heart-eyes</td>\n",
       "    </tr>\n",
       "  </tbody>\n",
       "</table>\n",
       "</div>"
      ],
      "text/plain": [
       "                                     slug character  \\\n",
       "2    e0-6-grinning-face-with-smiling-eyes         😄   \n",
       "3     e0-6-beaming-face-with-smiling-eyes         😁   \n",
       "8              e1-0-slightly-smiling-face         🙂   \n",
       "12    e0-6-smiling-face-with-smiling-eyes         😊   \n",
       "13            e1-0-smiling-face-with-halo         😇   \n",
       "14         e11-0-smiling-face-with-hearts         🥰   \n",
       "15      e0-6-smiling-face-with-heart-eyes         😍   \n",
       "19                      e0-6-smiling-face        ☺️   \n",
       "21    e1-0-kissing-face-with-smiling-eyes         😙   \n",
       "22           e13-0-smiling-face-with-tear         🥲   \n",
       "29      e1-0-smiling-face-with-open-hands         🤗   \n",
       "69      e1-0-smiling-face-with-sunglasses         😎   \n",
       "102          e1-0-smiling-face-with-horns         😈   \n",
       "115   e0-6-grinning-cat-with-smiling-eyes         😸   \n",
       "117      e0-6-smiling-cat-with-heart-eyes         😻   \n",
       "\n",
       "                              unicodeName  codePoint            group  \\\n",
       "2    E0.6 grinning face with smiling eyes      1F604  smileys-emotion   \n",
       "3     E0.6 beaming face with smiling eyes      1F601  smileys-emotion   \n",
       "8              E1.0 slightly smiling face      1F642  smileys-emotion   \n",
       "12    E0.6 smiling face with smiling eyes      1F60A  smileys-emotion   \n",
       "13            E1.0 smiling face with halo      1F607  smileys-emotion   \n",
       "14         E11.0 smiling face with hearts      1F970  smileys-emotion   \n",
       "15      E0.6 smiling face with heart-eyes      1F60D  smileys-emotion   \n",
       "19                      E0.6 smiling face  263A FE0F  smileys-emotion   \n",
       "21    E1.0 kissing face with smiling eyes      1F619  smileys-emotion   \n",
       "22           E13.0 smiling face with tear      1F972  smileys-emotion   \n",
       "29      E1.0 smiling face with open hands      1F917  smileys-emotion   \n",
       "69      E1.0 smiling face with sunglasses      1F60E  smileys-emotion   \n",
       "102          E1.0 smiling face with horns      1F608  smileys-emotion   \n",
       "115   E0.6 grinning cat with smiling eyes      1F638  smileys-emotion   \n",
       "117      E0.6 smiling cat with heart-eyes      1F63B  smileys-emotion   \n",
       "\n",
       "           subGroup variants                      description  \n",
       "2      face-smiling      NaN  grinning face with smiling eyes  \n",
       "3      face-smiling      NaN   beaming face with smiling eyes  \n",
       "8      face-smiling      NaN            slightly smiling face  \n",
       "12     face-smiling      NaN   smiling face with smiling eyes  \n",
       "13     face-smiling      NaN           smiling face with halo  \n",
       "14   face-affection      NaN         smiling face with hearts  \n",
       "15   face-affection      NaN     smiling face with heart-eyes  \n",
       "19   face-affection      NaN                     smiling face  \n",
       "21   face-affection      NaN   kissing face with smiling eyes  \n",
       "22   face-affection      NaN           smiling face with tear  \n",
       "29        face-hand      NaN     smiling face with open hands  \n",
       "69     face-glasses      NaN     smiling face with sunglasses  \n",
       "102   face-negative      NaN          smiling face with horns  \n",
       "115        cat-face      NaN   grinning cat with smiling eyes  \n",
       "117        cat-face      NaN      smiling cat with heart-eyes  "
      ]
     },
     "execution_count": 60,
     "metadata": {},
     "output_type": "execute_result"
    }
   ],
   "source": [
    "# search by keywords\n",
    "# df = df[df['colname'].str.contains(requests.get('q'), na=False)]\n",
    "df[df['slug'].str.contains('smiling', na=False)]"
   ]
  },
  {
   "cell_type": "code",
   "execution_count": 45,
   "id": "2f93f904-9673-482e-83cb-9a4378085dd4",
   "metadata": {},
   "outputs": [
    {
     "data": {
      "text/plain": [
       "group\n",
       "people-body        357\n",
       "flags              267\n",
       "objects            261\n",
       "symbols            223\n",
       "travel-places      218\n",
       "smileys-emotion    165\n",
       "animals-nature     150\n",
       "food-drink         133\n",
       "activities          85\n",
       "Name: count, dtype: int64"
      ]
     },
     "execution_count": 45,
     "metadata": {},
     "output_type": "execute_result"
    }
   ],
   "source": [
    "# plan to search by group\n",
    "df['group'].value_counts()"
   ]
  },
  {
   "cell_type": "code",
   "execution_count": 46,
   "id": "1b34ec0c-68f6-449f-8778-0afa706a5dd0",
   "metadata": {},
   "outputs": [
    {
     "data": {
      "text/plain": [
       "subGroup\n",
       "country-flag        258\n",
       "person-role          85\n",
       "person-sport         68\n",
       "animal-mammal        64\n",
       "transport-ground     50\n",
       "                   ... \n",
       "person-resting        3\n",
       "currency              2\n",
       "hotel                 2\n",
       "animal-amphibian      1\n",
       "subdivision-flag      1\n",
       "Name: count, Length: 99, dtype: int64"
      ]
     },
     "execution_count": 46,
     "metadata": {},
     "output_type": "execute_result"
    }
   ],
   "source": [
    "# plan to search by subgroup\n",
    "df['subGroup'].value_counts()"
   ]
  },
  {
   "cell_type": "code",
   "execution_count": null,
   "id": "62e601ff-20db-4b1b-88ea-96fd470a30fd",
   "metadata": {},
   "outputs": [],
   "source": []
  }
 ],
 "metadata": {
  "kernelspec": {
   "display_name": "Python 3 (ipykernel)",
   "language": "python",
   "name": "python3"
  },
  "language_info": {
   "codemirror_mode": {
    "name": "ipython",
    "version": 3
   },
   "file_extension": ".py",
   "mimetype": "text/x-python",
   "name": "python",
   "nbconvert_exporter": "python",
   "pygments_lexer": "ipython3",
   "version": "3.12.7"
  }
 },
 "nbformat": 4,
 "nbformat_minor": 5
}
